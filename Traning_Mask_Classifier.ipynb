{
  "nbformat": 4,
  "nbformat_minor": 0,
  "metadata": {
    "colab": {
      "provenance": []
    },
    "kernelspec": {
      "name": "python3",
      "display_name": "Python 3"
    },
    "language_info": {
      "name": "python"
    },
    "accelerator": "GPU"
  },
  "cells": [
    {
      "cell_type": "markdown",
      "source": [
        "Install And Import Needed Libraries"
      ],
      "metadata": {
        "id": "RpBE4-e1TqH0"
      }
    },
    {
      "cell_type": "code",
      "execution_count": null,
      "metadata": {
        "id": "puKr3xIEoU7Y"
      },
      "outputs": [],
      "source": [
        "!pip install tensorflow\n",
        "!pip install --upgrade pip\n",
        "!pip install tensorflow.io\n",
        "!pip install --upgrade --force-reinstall protobuf\n",
        "!pip install --upgrade --force-reinstall opencv-python\n",
        "!pip install tf-models-official\n",
        "!pip install numpy\n",
        "!pip install lvis\n",
        "!pip install absl-py\n",
        "!pip install pandas\n",
        "!pip install tensorflow-object-detection-api\n",
        "!pip install tensorflow==2.8\n",
        "!apt install --allow-change-held-packages libcudnn8=8.1.0.77-1+cuda11.2\n",
        "!pip install tf_slim\n",
        "import numpy as np\n",
        "import tensorflow as tf\n",
        "from google.colab import drive"
      ]
    },
    {
      "cell_type": "markdown",
      "source": [
        "Install and Activate Tensorflow Object Detection Api from Folder on Google Drive"
      ],
      "metadata": {
        "id": "0D0OISfyUK20"
      }
    },
    {
      "cell_type": "code",
      "source": [
        "!apt-get install protobuf-compiler python-lxml python-pil\n"
      ],
      "metadata": {
        "id": "m4ar5hrk1vI_"
      },
      "execution_count": null,
      "outputs": []
    },
    {
      "cell_type": "code",
      "source": [
        "drive.mount('/content/gdrive')\n",
        "%cd /content/gdrive/My Drive/models/research/object_detection/packages/tf2\n",
        "!python setup.py build\n",
        "!python setup.py install"
      ],
      "metadata": {
        "id": "EIyT7P6a26js"
      },
      "execution_count": null,
      "outputs": []
    },
    {
      "cell_type": "code",
      "source": [
        "%cd '/content/gdrive/My Drive/models/research'\n",
        "!protoc object_detection/protos/*.proto --python_out=."
      ],
      "metadata": {
        "id": "SxEPe2cuk1t4"
      },
      "execution_count": null,
      "outputs": []
    },
    {
      "cell_type": "code",
      "source": [
        "import os\n",
        "%cd /content/gdrive/My Drive/models/research/object_detection\n",
        "os.environ['PYTHONPATH'] += ':/content/gdrive/My Drive/models/research/:/content/gdrive/My Drive/Tensorflow/models/research/slim'"
      ],
      "metadata": {
        "id": "kwqnsqjAmeb5"
      },
      "execution_count": null,
      "outputs": []
    },
    {
      "cell_type": "markdown",
      "source": [
        "Train the Model"
      ],
      "metadata": {
        "id": "9aWL6qBBUnC3"
      }
    },
    {
      "cell_type": "code",
      "source": [
        "%cd '/content/gdrive/My Drive/models/research/object_detection'\n",
        "!python model_main_tf2.py --model_dir=training --pipeline_config_path=training/pipeline.config --num_train_steps=25000\n"
      ],
      "metadata": {
        "id": "SrbqFCEtIzGf"
      },
      "execution_count": null,
      "outputs": []
    }
  ]
}